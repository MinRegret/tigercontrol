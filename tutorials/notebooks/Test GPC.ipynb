{
 "cells": [
  {
   "cell_type": "code",
   "execution_count": 120,
   "metadata": {},
   "outputs": [],
   "source": [
    "import jax.numpy as np\n",
    "import tigercontrol\n",
    "from tigercontrol.models.control import ControlModel\n",
    "from jax import grad,jit\n",
    "import jax\n",
    "\n",
    "class GPC(ControlModel):\n",
    "    \"\"\"\n",
    "    Description: Computes optimal set of actions using the Linear Quadratic Regulator\n",
    "    algorithm.\n",
    "    \"\"\"\n",
    "    \n",
    "    compatibles = set([])\n",
    "\n",
    "    def __init__(self):\n",
    "        self.initialized = False\n",
    "\n",
    "    def initialize(self, A, B, x, n, m, H, HH, K):\n",
    "        \"\"\"\n",
    "        Description: Initialize the dynamics of the model\n",
    "        Args:\n",
    "            A,B (float/numpy.ndarray): system dynamics\n",
    "            K  (float/numpy.ndarray): optimal controller \n",
    "            n (float/numpy.ndarray): dimension of the state\n",
    "            m (float/numpy.ndarray): dimension of the controls\n",
    "            H (postive int): history of the controller \n",
    "            HH history of the system \n",
    "            x (float/numpy.ndarray): current state\n",
    "            past_w (float/numpy.ndarray)  previous perturbations \n",
    "        \"\"\"\n",
    "        self.initialized = True\n",
    "        \n",
    "        def _update_past(self_past, x):\n",
    "            new_past = np.roll(self_past, 1)\n",
    "            new_past = jax.ops.index_update(new_past, 0, x)\n",
    "            return new_past\n",
    "        self._update_past = jit(_update_past)\n",
    "        \n",
    "        self.K = np.zeros ((n,n)) ## compute it...\n",
    "\n",
    "        self.x = np.zeros(n)        \n",
    "        self.u = np.zeros(m)\n",
    "        \n",
    "        self.n = n   ## dimension of  the state x \n",
    "        self.m = m   ## dimension of the control u\n",
    "        self.A = A\n",
    "        self.B = B\n",
    "        self.H = H   ## how many control matrices\n",
    "        self.HH = HH ## how many times to unfold the recursion\n",
    "\n",
    "\n",
    "        ## internal parmeters to the class \n",
    "        self.T = 1 ## keep track of iterations, for the learning rate\n",
    "        self.learning_rate = 1\n",
    "        self.M = np.zeros((H, m, n))\n",
    "        self.S = [B for i in range(HH)]\n",
    "        for i in range(HH):\n",
    "            self.S[i] = (A + B@K) @ self.S[i-1]\n",
    "        self.w_past = np.zeros((HH+H,n)) ## this are the previous perturbations, from most recent [0] to latest [HH-1]\n",
    "\n",
    "\n",
    "\n",
    "    def the_complicated_loss_function(self, M):\n",
    "        \"\"\"\n",
    "        This is the counterfactual loss function, we prefer not to differentiate it and use JAX \n",
    "        \"\"\"\n",
    "        final = np.zeros(n)\n",
    "        for i in range(self.HH):\n",
    "            temp = np.zeros(m)\n",
    "            for j in range(self.H):\n",
    "                temp = temp + np.dot( M[j] , self.w_past[i+j])\n",
    "            final = final + self.S[i] @ temp\n",
    "        return np.linalg.norm(final)\n",
    "\n",
    "    def plan(self,x_new):\n",
    "        \"\"\"\n",
    "        Description: Updates internal parameters and then returns the estimated optimal action (only one)\n",
    "        Args:\n",
    "            None\n",
    "        Returns:\n",
    "            Estimated optimal action\n",
    "        \"\"\"\n",
    "\n",
    "        self.T +=1\n",
    "        self.learning_rate = 1 / np.sqrt(self.T + 1)\n",
    "\n",
    "        w_new = x_new - np.dot(self.A , self.x)  - np.dot(self.B , self.u)\n",
    "        self.w_past = self._update_past(self.w_past, w_new)\n",
    "        self.x = x_new\n",
    "\n",
    "        self.u = np.zeros(self.m)\n",
    "        for i in range(self.H):\n",
    "            self.u += np.dot( self.M[i] , self.w_past[i] )\n",
    "            \n",
    "        grad_fn = jit(grad(self.the_complicated_loss_function))  # compiled gradient evaluation function\n",
    "\n",
    "        self.M = self.M - self.learning_rate * grad_fn(self.M)\n",
    "        return self.u\n",
    "\n",
    "\n",
    "        ## update the M matrices via OGD rule ##\n",
    "\n",
    "\n",
    "\n",
    "    def help(self):\n",
    "        \"\"\"\n",
    "        Description: Prints information about this class and its methods.\n",
    "        Args:\n",
    "            None\n",
    "        Returns:\n",
    "            None\n",
    "        \"\"\"\n",
    "        print(GPC_help)\n",
    "\n",
    "    def __str__(self):\n",
    "        return \"<GPC Model>\""
   ]
  },
  {
   "cell_type": "code",
   "execution_count": 121,
   "metadata": {},
   "outputs": [
    {
     "name": "stderr",
     "output_type": "stream",
     "text": [
      "/Users/paulag/anaconda3/lib/python3.6/site-packages/jax/numpy/linalg.py:58: UserWarning: numpy.linalg support is experimental and may cause silent failures or wrong outputs\n",
      "  warnings.warn(_EXPERIMENTAL_WARNING)\n"
     ]
    },
    {
     "data": {
      "text/plain": [
       "DeviceArray([ 0.84207642, -1.25372672, -1.31752026, -0.66181296,\n",
       "              1.44967628], dtype=float32)"
      ]
     },
     "execution_count": 121,
     "metadata": {},
     "output_type": "execute_result"
    }
   ],
   "source": [
    "T = 10\n",
    "n = 5 # input/control dimension\n",
    "m = 5 # output dimension\n",
    "d = 5 # hidden/state dimension (which is equal to output dimension here)\n",
    "problem = tigercontrol.problem(\"LDS-Control-v0\")\n",
    "problem.initialize(n, m, d)"
   ]
  },
  {
   "cell_type": "code",
   "execution_count": 122,
   "metadata": {},
   "outputs": [],
   "source": [
    "x = np.ones((m,1)) # initial state\n",
    "K = np.zeros((problem.B.shape[1], problem.B.shape[0]))\n",
    "H, HH = 3, 30"
   ]
  },
  {
   "cell_type": "code",
   "execution_count": 123,
   "metadata": {},
   "outputs": [],
   "source": [
    "model = GPC()\n",
    "model.initialize(problem.A, problem.B, x, n, m, 3, 30, K)"
   ]
  },
  {
   "cell_type": "code",
   "execution_count": 124,
   "metadata": {},
   "outputs": [],
   "source": [
    "u = np.zeros(n)\n",
    "x_new = problem.step(u)"
   ]
  },
  {
   "cell_type": "code",
   "execution_count": 125,
   "metadata": {},
   "outputs": [
    {
     "data": {
      "text/plain": [
       "((5, 5), (5,), (5, 5), (5,))"
      ]
     },
     "execution_count": 125,
     "metadata": {},
     "output_type": "execute_result"
    }
   ],
   "source": [
    "model.A.shape, model.x.shape, model.B.shape, model.u.shape"
   ]
  },
  {
   "cell_type": "code",
   "execution_count": 126,
   "metadata": {},
   "outputs": [],
   "source": [
    "u = model.plan(x_new)"
   ]
  },
  {
   "cell_type": "code",
   "execution_count": null,
   "metadata": {},
   "outputs": [],
   "source": []
  }
 ],
 "metadata": {
  "kernelspec": {
   "display_name": "Python 3",
   "language": "python",
   "name": "python3"
  },
  "language_info": {
   "codemirror_mode": {
    "name": "ipython",
    "version": 3
   },
   "file_extension": ".py",
   "mimetype": "text/x-python",
   "name": "python",
   "nbconvert_exporter": "python",
   "pygments_lexer": "ipython3",
   "version": "3.6.5"
  }
 },
 "nbformat": 4,
 "nbformat_minor": 2
}
